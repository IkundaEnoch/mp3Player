{
 "cells": [
  {
   "cell_type": "markdown",
   "metadata": {},
   "source": [
    "# MP3 Player, Phase 1\n",
    "> \"1.\tProgram plays a predetermined mp3 file from the terminal.\"\n",
    "\n",
    "The goal of this phase of development is to create the simplest mp3 player concievable. By this definition, a mp3 player is simply a program which takes an mp3 file as input and plays the song through the computer's speakers."
   ]
  },
  {
   "cell_type": "markdown",
   "metadata": {},
   "source": [
    "This program uses <code>pygame</code> for mp3 playback. In particular, the <code>mixer</code> and <code>time</code> modules are used.\n",
    "<code>mixer</code> is used for mp3 playback, while <code>time</time> is used to track the passage of time during playback."
   ]
  },
  {
   "cell_type": "code",
   "execution_count": 2,
   "metadata": {},
   "outputs": [],
   "source": [
    "# imports\n",
    "import os\n",
    "os.environ['PYGAME_HIDE_SUPPORT_PROMPT'] = \"hide\" # used to hide the annoying welcome message from pygame\n",
    "from pygame import mixer, time "
   ]
  },
  {
   "cell_type": "markdown",
   "metadata": {},
   "source": [
    "Playing a song using <code>pygame</code> is fairly strightforward. The sequence for doing so is:\n",
    "\n",
    "1. initialize the mixer module\n",
    "2. load a song for playback\n",
    "3. play the song\n",
    "\n",
    "The <code>while</code> loop uses <code>mixer.music.get_busy</code> to check that music is playing. This prevents the file from running in the background."
   ]
  },
  {
   "cell_type": "code",
   "execution_count": 1,
   "metadata": {},
   "outputs": [],
   "source": [
    "def song_import():\n",
    "    song_list = []\n",
    "    for filename in os.listdir(\"Songs/\"):\n",
    "        if filename.endswith(\".mp3\"):\n",
    "            song_list.append(filename)\n",
    "    song_list.sort()\n",
    "    return song_list\n",
    "\n",
    "def goodbye():\n",
    "     print(\"Thank you for using mp3_Player!\")\n",
    "\n",
    "def playback_control(command, j):\n",
    "    help_list = \"\"\"\\tstop   : end playback \n",
    "        pause  : pause playback\n",
    "        play   : start playback\n",
    "        skip   : play the next song in the playlist\n",
    "        back   : play the previous song in the playlist\n",
    "        volume : change the playback volume (1 - 10)\"\"\"\n",
    "\n",
    "    if command == \"stop\":\n",
    "        mixer.music.stop()\n",
    "        return True, j, False\n",
    "    elif command == \"pause\":\n",
    "        mixer.music.pause()\n",
    "        mp3_command = input(\"Type a command to stop,pause,unpause:\")\n",
    "        if mp3_command == \"play\":\n",
    "            mixer.music.unpause()\n",
    "            return False, j, False\n",
    "    elif command == \"skip\":\n",
    "        mixer.music.stop()\n",
    "        return False, j, False\n",
    "    elif command == \"back\":\n",
    "        if j > 0:\n",
    "            j = j - 2\n",
    "            return False, j, True\n",
    "    elif command == \"volume\":\n",
    "        volume = float(input(\"Enter volume level (1-10)\"))\n",
    "        volume = volume / 10\n",
    "        mixer.music.set_volume(float(volume))\n",
    "        return False, j, False\n",
    "    elif command == \"help\":\n",
    "        print(help_list)\n",
    "        return False, i, False"
   ]
  },
  {
   "cell_type": "code",
   "execution_count": 4,
   "metadata": {},
   "outputs": [
    {
     "output_type": "stream",
     "name": "stdout",
     "text": [
      "Now Playing: 01 - Yahoo.mp3\n",
      "Thank you for using mp3_Player!\n"
     ]
    }
   ],
   "source": [
    "# TEST\n",
    "stopped = False            # used to stop playback\n",
    "i = 0                      # interator variable\n",
    "mixer.init()               # initializes the mixer\n",
    "br = False                 # used to determine if a break statement is needed\n",
    "song_list = song_import()\n",
    "\n",
    "while not(stopped):\n",
    "    song_to_play = \"Songs/\" + song_list[i]\n",
    "    mixer.music.load(song_to_play)         # loads a song for playback\n",
    "    mixer.music.play()                     # plays the song\n",
    "    print(\"Now Playing: \" + song_list[i])\n",
    "\n",
    "    # this loop monitors the playback. Otherwise, the play() function will only play the buffer size.\n",
    "    while mixer.music.get_busy():\n",
    "        time.Clock().tick(10)\n",
    "        mp3_command = input(\"Type a command, or type \\\"help\\\" for a list of available commands: \")\n",
    "        stopped, i, br = playback_control(mp3_command, i)\n",
    "        if br:\n",
    "            break\n",
    "\n",
    "    if stopped:\n",
    "        goodbye() \n",
    "        break\n",
    "    i = i + 1\n",
    "    if i == len(song_list)-1:\n",
    "        i = 0"
   ]
  },
  {
   "cell_type": "markdown",
   "metadata": {},
   "source": [
    "## Resources\n",
    "<a href=\"https://www.youtube.com/watch?v=lUMSK6LmXCQ\">Playing a music file using Pygame (Youtube)</a></br>\n",
    "<a href=\"https://www.pygame.org/docs/ref/music.html#pygame.mixer.music.stop\">pygame.mixer.music</a>"
   ]
  },
  {
   "cell_type": "code",
   "execution_count": null,
   "metadata": {},
   "outputs": [],
   "source": [
    "# ORIGINAL\n",
    "stopped = False\n",
    "i = 0\n",
    "mixer.init()               # initializes the mixer\n",
    "while not(stopped):\n",
    "    song_to_play = \"Songs/\" + song_list[i]\n",
    "    mixer.music.load(song_to_play)         # loads a song for playback\n",
    "    mixer.music.play()             # plays the song\n",
    "    print(\"Now Playing: \" + song_list[i])\n",
    "    # this loop monitors the playback. Otherwise, the play() function will only play the buffer size.\n",
    "    while mixer.music.get_busy():\n",
    "        time.Clock().tick(10)\n",
    "        mp3_command = input(\"Type a command to stop,pause,unpause: \")\n",
    "        if mp3_command == \"stop\":\n",
    "            mixer.music.stop()\n",
    "            goodbye()\n",
    "            stopped = True\n",
    "            break\n",
    "        elif mp3_command == \"pause\":\n",
    "            mixer.music.pause()\n",
    "            mp3_command = input(\"Type a command to stop,pause,unpause:\")\n",
    "            if mp3_command == \"play\":\n",
    "                mixer.music.unpause()\n",
    "        elif mp3_command == \"skip\":\n",
    "            mixer.music.stop()\n",
    "        elif mp3_command == \"back\":\n",
    "            if i > 0:\n",
    "                i = i - 2\n",
    "                break\n",
    "        elif mp3_command == \"volume\":\n",
    "            volume = input(\"Enter volume level (0.0-1.0)\")\n",
    "            mixer.music.set_volume(float(volume))\n",
    "    if stopped:\n",
    "        break\n",
    "    i = i + 1\n",
    "    if i == len(song_list)-1:\n",
    "        i = 0"
   ]
  },
  {
   "cell_type": "code",
   "execution_count": null,
   "metadata": {},
   "outputs": [],
   "source": []
  }
 ],
 "metadata": {
  "kernelspec": {
   "name": "python385jvsc74a57bd03a8aa6cc1e90e647ffe660db1679d20289bea46ae81e6eb425f5481d2b8e0fe4",
   "display_name": "Python 3.8.5 64-bit ('base': conda)"
  },
  "language_info": {
   "codemirror_mode": {
    "name": "ipython",
    "version": 3
   },
   "file_extension": ".py",
   "mimetype": "text/x-python",
   "name": "python",
   "nbconvert_exporter": "python",
   "pygments_lexer": "ipython3",
   "version": "3.8.5"
  }
 },
 "nbformat": 4,
 "nbformat_minor": 2
}