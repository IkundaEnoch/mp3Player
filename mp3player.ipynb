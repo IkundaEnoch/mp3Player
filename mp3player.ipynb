{
 "cells": [
  {
   "cell_type": "markdown",
   "metadata": {},
   "source": [
    "# MP3 Player, Phase 1\n",
    "> \"1.\tProgram plays a predetermined mp3 file from the terminal.\"\n",
    "\n",
    "The goal of this phase of development is to create the simplest mp3 player concievable. By this definition, a mp3 player is simply a program which takes an mp3 file as input and plays the song through the computer's speakers."
   ]
  },
  {
   "cell_type": "markdown",
   "metadata": {},
   "source": [
    "This program uses <code>pygame</code> for mp3 playback. In particular, the <code>mixer</code> and <code>time</code> modules are used.\n",
    "<code>mixer</code> is used for mp3 playback, while <code>time</time> is used to track the passage of time during playback."
   ]
  },
  {
   "cell_type": "code",
   "execution_count": 3,
   "metadata": {},
   "outputs": [],
   "source": [
    "# imports\n",
    "import os\n",
    "os.environ['PYGAME_HIDE_SUPPORT_PROMPT'] = \"hide\" # used to hide the annoying welcome message from pygame\n",
    "from pygame import mixer, time "
   ]
  },
  {
   "cell_type": "markdown",
   "metadata": {},
   "source": [
    "Playing a song using <code>pygame</code> is fairly strightforward. The sequence for doing so is:\n",
    "\n",
    "1. initialize the mixer module\n",
    "2. load a song for playback\n",
    "3. play the song\n",
    "\n",
    "The <code>while</code> loop uses <code>mixer.music.get_busy</code> to check that music is playing. This prevents the file from running in the background."
   ]
  },
  {
   "cell_type": "code",
   "execution_count": 5,
   "metadata": {},
   "outputs": [
    {
     "name": "stdout",
     "output_type": "stream",
     "text": [
      "Now Playing: 01 Feel Like I Do.mp3\n",
      "Type a command to stop,pause,unpause: pause\n",
      "Type a command to stop,pause,unpause:unpause\n",
      "Type a command to stop,pause,unpause: stop\n"
     ]
    }
   ],
   "source": [
    "song = \"01 Feel Like I Do.mp3\" # the name of the test song (Artist: Vin Diesel)\n",
    "mixer.init()                   # initializes the mixer\n",
    "mixer.music.load(song)         # loads a song for playback\n",
    "mixer.music.play()             # plays the song\n",
    "print(\"Now Playing: \" + song)\n",
    "# this loop monitors the playback. Otherwise, the play() function will only play the buffer size.\n",
    "while mixer.music.get_busy():\n",
    "    time.Clock().tick(10)\n",
    "    mp3_command = input(\"Type a command to stop,pause,unpause: \")\n",
    "    if mp3_command == \"stop\":\n",
    "        mixer.music.stop()\n",
    "    elif mp3_command == \"pause\":\n",
    "        mixer.music.pause()\n",
    "        mp3_command = input(\"Type a command to stop,pause,unpause:\")\n",
    "        if mp3_command == \"unpause\":\n",
    "            mixer.music.unpause()\n",
    "    "
   ]
  },
  {
   "cell_type": "markdown",
   "metadata": {},
   "source": [
    "## Resources\n",
    "<a href=\"https://www.youtube.com/watch?v=lUMSK6LmXCQ\">Playing a music file using Pygame (Youtube)</a></br>\n",
    "<a href=\"https://www.pygame.org/docs/ref/music.html#pygame.mixer.music.stop\">pygame.mixer.music</a>"
   ]
  },
  {
   "cell_type": "code",
   "execution_count": null,
   "metadata": {},
   "outputs": [],
   "source": []
  }
 ],
 "metadata": {
  "kernelspec": {
   "display_name": "Python 3",
   "language": "python",
   "name": "python3"
  },
  "language_info": {
   "codemirror_mode": {
    "name": "ipython",
    "version": 3
   },
   "file_extension": ".py",
   "mimetype": "text/x-python",
   "name": "python",
   "nbconvert_exporter": "python",
   "pygments_lexer": "ipython3",
   "version": "3.8.5"
  }
 },
 "nbformat": 4,
 "nbformat_minor": 2
}
