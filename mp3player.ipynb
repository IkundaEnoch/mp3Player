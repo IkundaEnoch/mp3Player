{
 "cells": [
  {
   "cell_type": "markdown",
   "metadata": {},
   "source": [
    "# MP3 Player, Phase 1\n",
    "> \"1.\tProgram plays a predetermined mp3 file from the terminal.\"\n",
    "\n",
    "The goal of this phase of development is to create the simplest mp3 player concievable. By this definition, a mp3 player is simply a program which takes an mp3 file as input and plays the song through the computer's speakers."
   ]
  },
  {
   "cell_type": "markdown",
   "metadata": {},
   "source": [
    "This program uses <code>pygame</code> for mp3 playback. In particular, the <code>mixer</code> and <code>time</code> modules are used.\n",
    "<code>mixer</code> is used for mp3 playback, while <code>time</time> is used to track the passage of time during playback."
   ]
  },
  {
   "cell_type": "code",
   "execution_count": 1,
   "metadata": {},
   "outputs": [],
   "source": [
    "# imports\n",
    "import os\n",
    "os.environ['PYGAME_HIDE_SUPPORT_PROMPT'] = \"hide\" # used to hide the annoying welcome message from pygame\n",
    "from pygame import mixer, time "
   ]
  },
  {
   "cell_type": "markdown",
   "metadata": {},
   "source": [
    "Playing a song using <code>pygame</code> is fairly strightforward. The sequence for doing so is:\n",
    "\n",
    "1. initialize the mixer module\n",
    "2. load a song for playback\n",
    "3. play the song\n",
    "\n",
    "The <code>while</code> loop uses <code>mixer.music.get_busy</code> to check that music is playing. This prevents the file from running in the background."
   ]
  },
  {
   "cell_type": "code",
   "execution_count": 12,
   "metadata": {},
   "outputs": [
    {
     "output_type": "execute_result",
     "data": {
      "text/plain": [
       "str"
      ]
     },
     "metadata": {},
     "execution_count": 12
    }
   ],
   "source": [
    "song_list = []\n",
    "for filename in os.listdir(\"Songs\"):\n",
    "    if filename.endswith(\".mp3\"):\n",
    "        song_list.append(filename)\n",
    "song_list.sort()\n"
   ]
  },
  {
   "cell_type": "code",
   "execution_count": 11,
   "metadata": {},
   "outputs": [
    {
     "output_type": "stream",
     "name": "stdout",
     "text": [
      "Now Playing: 01 - Yahoo.mp3\n",
      "0\n",
      "Now Playing: 02 - Mouth Dreams (Intro).mp3\n",
      "1\n",
      "Now Playing: 03 - Spongerock.mp3\n",
      "2\n",
      "Now Playing: 04 - Just a Baby.mp3\n",
      "3\n",
      "Now Playing: 05 - Superkiller.mp3\n",
      "4\n",
      "Now Playing: 06 - Get Happy.mp3\n",
      "3\n",
      "3\n",
      "Now Playing: 07 - Ribs.mp3\n",
      "Thank you for using mp3_Player!\n"
     ]
    }
   ],
   "source": [
    "def goodbye():\n",
    "     print(\"Thank you for using mp3_Player!\")\n",
    "stopped = False\n",
    "i = 0\n",
    "for i, song in enumerate(song_list):\n",
    "    song_to_play = \"Songs/\" + song \n",
    "    mixer.init()                   # initializes the mixer\n",
    "    mixer.music.load(song)         # loads a song for playback\n",
    "    mixer.music.play()             # plays the song\n",
    "    print(\"Now Playing: \" + song_list[i])\n",
    "    # this loop monitors the playback. Otherwise, the play() function will only play the buffer size.\n",
    "    while mixer.music.get_busy():\n",
    "        time.Clock().tick(10)\n",
    "        mp3_command = input(\"Type a command to stop,pause,unpause: \")\n",
    "        if mp3_command == \"stop\":\n",
    "            mixer.music.stop()\n",
    "            goodbye()\n",
    "            stopped = True\n",
    "            break\n",
    "        elif mp3_command == \"pause\":\n",
    "            mixer.music.pause()\n",
    "            mp3_command = input(\"Type a command to stop,pause,unpause:\")\n",
    "            if mp3_command == \"play\":\n",
    "                mixer.music.unpause()\n",
    "        elif mp3_command == \"skip\":\n",
    "            mixer.music.stop()\n",
    "        elif mp3_command == \"back\":\n",
    "            if i > 0:\n",
    "                i = i-1\n",
    "                print(str(i))\n",
    "                break\n",
    "    if stopped:\n",
    "        break\n",
    "    print(str(i))"
   ]
  },
  {
   "cell_type": "code",
   "execution_count": null,
   "metadata": {},
   "outputs": [],
   "source": [
    "def goodbye():\n",
    "     print(\"Thank you for using mp3_Player!\")"
   ]
  },
  {
   "cell_type": "markdown",
   "metadata": {},
   "source": [
    "## Resources\n",
    "<a href=\"https://www.youtube.com/watch?v=lUMSK6LmXCQ\">Playing a music file using Pygame (Youtube)</a></br>\n",
    "<a href=\"https://www.pygame.org/docs/ref/music.html#pygame.mixer.music.stop\">pygame.mixer.music</a>"
   ]
  },
  {
   "cell_type": "code",
   "execution_count": null,
   "metadata": {},
   "outputs": [],
   "source": []
  }
 ],
 "metadata": {
  "kernelspec": {
   "name": "python385jvsc74a57bd03a8aa6cc1e90e647ffe660db1679d20289bea46ae81e6eb425f5481d2b8e0fe4",
   "display_name": "Python 3.8.5 64-bit ('base': conda)"
  },
  "language_info": {
   "codemirror_mode": {
    "name": "ipython",
    "version": 3
   },
   "file_extension": ".py",
   "mimetype": "text/x-python",
   "name": "python",
   "nbconvert_exporter": "python",
   "pygments_lexer": "ipython3",
   "version": "3.8.5-final"
  }
 },
 "nbformat": 4,
 "nbformat_minor": 2
}