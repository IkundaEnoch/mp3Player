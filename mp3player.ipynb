{
 "cells": [
  {
   "cell_type": "markdown",
   "metadata": {},
   "source": [
    "# MP3 Player, Phase 1\n",
    "> \"1.\tProgram plays a predetermined mp3 file from the terminal.\"\n",
    "\n",
    "The goal of this phase of development is to create the simplest mp3 player concievable. By this definition, a mp3 player is simply a program which takes an mp3 file as input and plays the song through the computer's speakers."
   ]
  },
  {
   "cell_type": "markdown",
   "metadata": {},
   "source": [
    "This program uses <code>pygame</code> for mp3 playback. In particular, the <code>mixer</code> and <code>time</code> modules are used.\n",
    "<code>mixer</code> is used for mp3 playback, while <code>time</time> is used to track the passage of time during playback."
   ]
  },
  {
   "cell_type": "code",
   "execution_count": 1,
   "metadata": {},
   "outputs": [],
   "source": [
    "# imports\n",
    "import os\n",
    "os.environ['PYGAME_HIDE_SUPPORT_PROMPT'] = \"hide\" # used to hide the annoying welcome message from pygame\n",
    "from pygame import mixer, time "
   ]
  },
  {
   "cell_type": "markdown",
   "metadata": {},
   "source": [
    "Playing a song using <code>pygame</code> is fairly strightforward. The sequence for doing so is:\n",
    "\n",
    "1. initialize the mixer module\n",
    "2. load a song for playback\n",
    "3. play the song\n",
    "\n",
    "The <code>while</code> loop uses <code>mixer.music.get_busy</code> to check that music is playing. This prevents the file from running in the background."
   ]
  },
  {
   "cell_type": "code",
   "execution_count": 2,
   "metadata": {},
   "outputs": [],
   "source": [
    "song_list = []\n",
    "for filename in os.listdir(\"Songs\"):\n",
    "    if filename.endswith(\".mp3\"):\n",
    "        song_list.append(filename)\n",
    "song_list.sort()\n"
   ]
  },
  {
   "cell_type": "code",
   "execution_count": 6,
   "metadata": {},
   "outputs": [
    {
     "output_type": "error",
     "ename": "error",
     "evalue": "Couldn't open '01 - Yahoo.mp3'",
     "traceback": [
      "\u001b[0;31m---------------------------------------------------------------------------\u001b[0m",
      "\u001b[0;31merror\u001b[0m                                     Traceback (most recent call last)",
      "\u001b[0;32m<ipython-input-6-039e2d002182>\u001b[0m in \u001b[0;36m<module>\u001b[0;34m\u001b[0m\n\u001b[1;32m      6\u001b[0m     \u001b[0msong_to_play\u001b[0m \u001b[0;34m=\u001b[0m \u001b[0;34m\"Songs/\"\u001b[0m \u001b[0;34m+\u001b[0m \u001b[0msong\u001b[0m\u001b[0;34m\u001b[0m\u001b[0;34m\u001b[0m\u001b[0m\n\u001b[1;32m      7\u001b[0m     \u001b[0mmixer\u001b[0m\u001b[0;34m.\u001b[0m\u001b[0minit\u001b[0m\u001b[0;34m(\u001b[0m\u001b[0;34m)\u001b[0m                   \u001b[0;31m# initializes the mixer\u001b[0m\u001b[0;34m\u001b[0m\u001b[0;34m\u001b[0m\u001b[0m\n\u001b[0;32m----> 8\u001b[0;31m     \u001b[0mmixer\u001b[0m\u001b[0;34m.\u001b[0m\u001b[0mmusic\u001b[0m\u001b[0;34m.\u001b[0m\u001b[0mload\u001b[0m\u001b[0;34m(\u001b[0m\u001b[0msong\u001b[0m\u001b[0;34m)\u001b[0m         \u001b[0;31m# loads a song for playback\u001b[0m\u001b[0;34m\u001b[0m\u001b[0;34m\u001b[0m\u001b[0m\n\u001b[0m\u001b[1;32m      9\u001b[0m     \u001b[0mmixer\u001b[0m\u001b[0;34m.\u001b[0m\u001b[0mmusic\u001b[0m\u001b[0;34m.\u001b[0m\u001b[0mplay\u001b[0m\u001b[0;34m(\u001b[0m\u001b[0;34m)\u001b[0m             \u001b[0;31m# plays the song\u001b[0m\u001b[0;34m\u001b[0m\u001b[0;34m\u001b[0m\u001b[0m\n\u001b[1;32m     10\u001b[0m     \u001b[0mprint\u001b[0m\u001b[0;34m(\u001b[0m\u001b[0;34m\"Now Playing: \"\u001b[0m \u001b[0;34m+\u001b[0m \u001b[0msong_list\u001b[0m\u001b[0;34m[\u001b[0m\u001b[0mi\u001b[0m\u001b[0;34m]\u001b[0m\u001b[0;34m)\u001b[0m\u001b[0;34m\u001b[0m\u001b[0;34m\u001b[0m\u001b[0m\n",
      "\u001b[0;31merror\u001b[0m: Couldn't open '01 - Yahoo.mp3'"
     ]
    }
   ],
   "source": [
    "def goodbye():\n",
    "     print(\"Thank you for using mp3_Player!\")\n",
    "stopped = False\n",
    "i = 0\n",
    "for i, song in enumerate(song_list):\n",
    "    song_to_play = \"Songs/\" + song \n",
    "    mixer.init()                   # initializes the mixer\n",
    "    mixer.music.load(song)         # loads a song for playback\n",
    "    mixer.music.play()             # plays the song\n",
    "    print(\"Now Playing: \" + song_list[i])\n",
    "    # this loop monitors the playback. Otherwise, the play() function will only play the buffer size.\n",
    "    while mixer.music.get_busy():\n",
    "        time.Clock().tick(10)\n",
    "        mp3_command = input(\"Type a command to stop,pause,unpause: \")\n",
    "        if mp3_command == \"stop\":\n",
    "            mixer.music.stop()\n",
    "            goodbye()\n",
    "            stopped = True\n",
    "            break\n",
    "        elif mp3_command == \"pause\":\n",
    "            mixer.music.pause()\n",
    "            mp3_command = input(\"Type a command to stop,pause,unpause:\")\n",
    "            if mp3_command == \"play\":\n",
    "                mixer.music.unpause()\n",
    "        elif mp3_command == \"skip\":\n",
    "            mixer.music.stop()\n",
    "        elif mp3_command == \"back\":\n",
    "            if i > 0:\n",
    "                i = i-1\n",
    "                print(str(i))\n",
    "                break\n",
    "    if stopped:\n",
    "        break\n",
    "    print(str(i))"
   ]
  },
  {
   "cell_type": "code",
   "execution_count": null,
   "metadata": {},
   "outputs": [],
   "source": [
    "def goodbye():\n",
    "     print(\"Thank you for using mp3_Player!\")"
   ]
  },
  {
   "cell_type": "markdown",
   "metadata": {},
   "source": [
    "## Resources\n",
    "<a href=\"https://www.youtube.com/watch?v=lUMSK6LmXCQ\">Playing a music file using Pygame (Youtube)</a></br>\n",
    "<a href=\"https://www.pygame.org/docs/ref/music.html#pygame.mixer.music.stop\">pygame.mixer.music</a>"
   ]
  },
  {
   "cell_type": "code",
   "execution_count": null,
   "metadata": {},
   "outputs": [],
   "source": []
  }
 ],
 "metadata": {
  "kernelspec": {
   "name": "python385jvsc74a57bd03a8aa6cc1e90e647ffe660db1679d20289bea46ae81e6eb425f5481d2b8e0fe4",
   "display_name": "Python 3.8.5 64-bit ('base': conda)"
  },
  "language_info": {
   "codemirror_mode": {
    "name": "ipython",
    "version": 3
   },
   "file_extension": ".py",
   "mimetype": "text/x-python",
   "name": "python",
   "nbconvert_exporter": "python",
   "pygments_lexer": "ipython3",
   "version": "3.8.5-final"
  }
 },
 "nbformat": 4,
 "nbformat_minor": 2
}